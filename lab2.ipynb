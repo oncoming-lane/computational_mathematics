{
 "cells": [
  {
   "cell_type": "markdown",
   "metadata": {},
   "source": [
    "<h1 style=\"text-align:center;\">Лабораторная работа №2</h1>\n",
    "\n",
    "<h3 style=\"text-align:center;\">Тулупов Николай Дмитриевич</h3>\n",
    "<h3 style=\"text-align:center;\">Б01-204</h3>\n",
    "\n",
    "<span style=\"color:green\">\n",
    "\n",
    "Цель: решить выбранную СЛАУ следующими методами (постараться избежать умножения матриц, использовать поэлементные записи): \n",
    "1. метод Гаусса с выбором главного элемента\n",
    "2. метод LU-разложение (если применим)\n",
    "3. метод Якоби\n",
    "4. метод Зейделя\n",
    "5. метод верхней релаксации\n",
    "6. метод градиентного спуска\n",
    "7. метод минимальных невязок\n",
    "8. стабилизированный метод бисопряженных градиентов\n",
    "\n",
    "*Для итерационных методов получить график убывания невязки в зависимости от итерации.</span>"
   ]
  },
  {
   "cell_type": "code",
   "execution_count": 69,
   "metadata": {},
   "outputs": [],
   "source": [
    "%matplotlib inline\n",
    "import numpy as np\n",
    "import matplotlib.pyplot as plt\n",
    "import copy\n",
    "np.set_printoptions(precision=3, suppress=True, formatter={'all': lambda x: f'{x:0.3f}'})\n"
   ]
  },
  {
   "cell_type": "code",
   "execution_count": 70,
   "metadata": {},
   "outputs": [],
   "source": [
    "a = 20 #константа - зависит от варианта задания\n",
    "size = 5 #размер матриц\n",
    "A = ((a-1)*np.eye(size) + np.ones(size)) #матрица А\n",
    "f = np.zeros((size, 1)) \n",
    "for i in range(size): f[i] = i + 1 # столбец решений f"
   ]
  },
  {
   "cell_type": "code",
   "execution_count": 71,
   "metadata": {},
   "outputs": [],
   "source": [
    "def norm3_vect(vect):\n",
    "    return pow(sum(el**2 for el in vect), 0.5)\n"
   ]
  },
  {
   "cell_type": "code",
   "execution_count": 72,
   "metadata": {},
   "outputs": [],
   "source": [
    "def norm3_matr(matr):\n",
    "    size = len(matr)\n",
    "    ans = 0\n",
    "    for i in range(size):\n",
    "        ans += sum(matr[i][j] ** 2 for j in range(size))\n",
    "    return ans"
   ]
  },
  {
   "cell_type": "code",
   "execution_count": 73,
   "metadata": {},
   "outputs": [],
   "source": [
    "def swap(a, b):\n",
    "    return b, a\n",
    "    \n",
    "'''\n",
    "почему не работает смена путем запаковки и распаковки кортежа\n",
    " для смены элементов массива и матрицы??????\n",
    "'''\n",
    "\n",
    "def swap_rows(A, row1, row2):\n",
    "    A[[row1, row2]] = A[[row2, row1]]\n",
    "\n",
    "def swap_columns(A, col1, col2):\n",
    "    A[:, [col1, col2]] = A[:, [col2, col1]]\n",
    "\n",
    "def find_max_el(A, iteration):\n",
    "    size = A.shape[0]\n",
    "    main_element = A[iteration,iteration]\n",
    "    i_main = iteration\n",
    "    j_main = iteration\n",
    "\n",
    "    for i in range(size - iteration): \n",
    "        for j in range(size - iteration):\n",
    "            if abs(A[i + iteration,j + iteration]) > abs(main_element):\n",
    "                i_main = i + iteration\n",
    "                j_main = j + iteration\n",
    "                main_element = A[i_main,j_main]\n",
    "    return main_element, i_main, j_main"
   ]
  },
  {
   "cell_type": "code",
   "execution_count": 74,
   "metadata": {},
   "outputs": [],
   "source": [
    "def gauss(A, f):\n",
    "    print(\"Решение СЛАУ методом Гаусса с выбором макс элемента\")\n",
    "    size = len(A)\n",
    "    if A.shape[0] != A.shape[1]:\n",
    "        print(\"Матрица не квадратная, решение невозможно!\")\n",
    "        return \n",
    "    x = np.arange(size) #массив с порядком корней (порядок будет меняться при перестановке столбцов)\n",
    "\n",
    "    #прямой ход алгоритма - приводим матрицу A к верхнетреугольному виду\n",
    "    for iter in range(len(A)):\n",
    "        ''' Добавим в алгоритм проверку - если на какой-то итерации алгоритма возникла нулевая строка - ответ будет выражаться \n",
    "        через одну из переменных (её берем за константу, все остальные переменные будут выражены через нее)'''\n",
    "        if (len(A) != sum(int(np.any(el)) for el in A)):\n",
    "            '''Количество переменных превышает количество уравнений, решение не однозначн'''\n",
    "            print(\"Матрица не квадратная, решение невозможно!\")\n",
    "            return \n",
    "        \n",
    "        main_el, i_main, j_main = find_max_el(A, iter) #максимальный элемент текущей матрицы и его местонахождение\n",
    "        \n",
    "        if (i_main != iter): #если элемент еще не в нулевой строке\n",
    "            swap_rows(A, iter, i_main) #меняем в текущей матрице нулевую строку и строку,   содержащую главный элемент            \n",
    "            #f[i_main], f[iter] = swap(f[iter], f[i_main])\n",
    "            temp = f[iter]\n",
    "            f[iter] =  f[i_main]\n",
    "            f[i_main] = temp\n",
    "            #f[iter], f[i_main]  =  f[i_main], f[iter] #то же самое - в столбце решений\n",
    "            \n",
    "        if (j_main != iter): #если элемент еще не в нулевом столбце\n",
    "            swap_columns(A, iter, j_main) #меняем в текущей матрице нулевой столбец и столбец, содержащий главный элемент\n",
    "            #x[iter], x[j_main] = x[j_main], x[iter] #то же самое - в строке порядка переменных\n",
    "            temp = x[iter]\n",
    "            x[iter] =  x[j_main]\n",
    "            f[j_main] = temp\n",
    "        \n",
    "        if main_el != 0:\n",
    "            A[iter:, iter:][0] /= main_el #делим нулевую строку текущей матрицы на главный элемент\n",
    "            f[iter] /= main_el #делим нулевую строку текущего столбца решений на главный элемент\n",
    "\n",
    "        for i in range(size - iter - 1):   \n",
    "            f[i+iter+1] -= (f[iter] * A[iter:, iter:][i+1][0])\n",
    "            #вычитаем из каждого элемента нулевой в текущем столбце решений, умноженный на нулевой элемент нужной строки - получаем в начале каждой строки единицу\n",
    "            A[iter:, iter:][i+1] -=  (A[iter:, iter:][0] * A[iter:, iter:][i+1][0])\n",
    "            #вычитаем из каждой строки нулевую, умноженную на нулевой элемент нужной строки - получаем в начале каждой строки единицу\n",
    "        \n",
    "    f[-1] /= A[-1][-1]\n",
    "    A[size-1][size-1] = 1\n",
    "\n",
    "    U  = np.zeros((size, 1)) #столбец решений\n",
    "\n",
    "    #обратный ход алгоритма\n",
    "    for i in range(size-1, -1, -1):\n",
    "        U[i] = f[i]\n",
    "        for j in range(i + 1, size):\n",
    "            U[i] -= U[j] * A[i][j]\n",
    "\n",
    "    #перестановка переменных в изначальном порядке\n",
    "    ans = np.zeros((size, 1))\n",
    "    for i in range(size):\n",
    "        ans[int(x[i])] = U[i]\n",
    "    \n",
    "    return ans"
   ]
  },
  {
   "cell_type": "code",
   "execution_count": null,
   "metadata": {},
   "outputs": [],
   "source": [
    "\n",
    "A_gauss = copy.deepcopy(A) #сохраним исходную матрицу А в отдельной переменной\n",
    "f_gauss = copy.deepcopy(f) #и столбец решений тоже сохраним в отдельной переменной\n",
    "#это - т к иначе python расценит разные numpy матрицы как ссылающиеся на один объект\n",
    "\n",
    "u = gauss(A_gauss, f_gauss) #столбец решений\n",
    "print('x = \\n', u) # ответ - столбец с переменными\n",
    "print(\"\\n\")\n",
    "\n",
    "print(\"Проверка \\n\") #перемножаем \n",
    "Res = np.array(A@u)\n",
    "#print(\"A * U = f =\\n\", Res)\n",
    "if norm3_vect(Res[i] - f[i]) > 1e-5: \n",
    "    #проверяем на приблизительное равенство из-за машинных ошибок\n",
    "    print(\"Error\")\n",
    "else:\n",
    "    print(\"OK\")\n"
   ]
  },
  {
   "cell_type": "markdown",
   "metadata": {},
   "source": [
    "2) LU - разложение"
   ]
  },
  {
   "cell_type": "code",
   "execution_count": 76,
   "metadata": {},
   "outputs": [],
   "source": [
    "def LU_decomp(A):\n",
    "\n",
    "    size = len(A)\n",
    "    L = np.zeros((size,size))\n",
    "    U = np.zeros((size,size))\n",
    "\n",
    "    for i in range(size):\n",
    "        L[i][i] = 1\n",
    "        for j in range(i, size):\n",
    "            Uij = (A[i][j] - sum(L[i][k] * U[k][j] for k in range(i)))\n",
    "            '''if Uij == 0:\n",
    "                print(\"Error! devision by 0\")\n",
    "                return'''\n",
    "            U[i][j] = Uij\n",
    "            \n",
    "            L[j][i] = (A[j][i] - sum(L[j][k] * U[k][i] for k in range(i))) / U[i][i]\n",
    "\n",
    "    '''Проверка'''\n",
    "    if norm3_matr(L@U - A_lu) > 1e-5:\n",
    "        print(\"Error! false\")\n",
    "        return \n",
    "    \n",
    "    return L, U"
   ]
  },
  {
   "cell_type": "code",
   "execution_count": 77,
   "metadata": {},
   "outputs": [],
   "source": [
    "def LU(A, f):\n",
    "    print(\"Решение СЛАУ с помощью LU-разложения\")\n",
    "    size = len(A)\n",
    "    \n",
    "    #LU-разложение матрицы A\n",
    "    LU_dec = LU_decomp(A)\n",
    "    L = LU_dec[0]\n",
    "    U = LU_dec[1]\n",
    "    \n",
    "    \n",
    "    #обратный ход - решение СЛАУ\n",
    "    #Ly = f \n",
    "    y = np.ones((size, 1))\n",
    "    for i in range(size):\n",
    "        y[i] = f[i] - sum(L[i][j] * y[j] for j in range(i))\n",
    "    \n",
    "    #Ux = y \n",
    "    x = np.ones((size, 1))\n",
    "    for i in range(size-1, -1, -1):\n",
    "        x[i] = (y[i] - sum(U[i][j] * x[j] for j in range(i+1, size))) / U[i][i]\n",
    "    \n",
    "    return x"
   ]
  },
  {
   "cell_type": "code",
   "execution_count": null,
   "metadata": {},
   "outputs": [],
   "source": [
    "A_lu = np.copy(A) # как в пред пункте сохраним исходную матрицу А в отдельной переменной\n",
    "f_lu = np.copy(f) #и столбец решений тоже сохраним в отдельной переменной\n",
    "\n",
    "print(\"A=\", A_lu, sep='\\n')   \n",
    "print(\"f=\", f_lu, sep='\\n') \n",
    "\n",
    "ans = LU(A_lu, f_lu)\n",
    "\n",
    "\n",
    "print(\"x=\", ans, sep='\\n')\n",
    "\n",
    "'''Проверка'''\n",
    "if norm3_vect(A_lu@ans - f_lu) > 1e-5:\n",
    "    print(\"Error! false\") \n",
    "else:\n",
    "    print(\"OK\")\n"
   ]
  },
  {
   "cell_type": "markdown",
   "metadata": {},
   "source": [
    "3) Метод верхней релаксации"
   ]
  },
  {
   "cell_type": "code",
   "execution_count": null,
   "metadata": {},
   "outputs": [],
   "source": []
  }
 ],
 "metadata": {
  "kernelspec": {
   "display_name": "base",
   "language": "python",
   "name": "python3"
  },
  "language_info": {
   "codemirror_mode": {
    "name": "ipython",
    "version": 3
   },
   "file_extension": ".py",
   "mimetype": "text/x-python",
   "name": "python",
   "nbconvert_exporter": "python",
   "pygments_lexer": "ipython3",
   "version": "3.12.4"
  }
 },
 "nbformat": 4,
 "nbformat_minor": 2
}

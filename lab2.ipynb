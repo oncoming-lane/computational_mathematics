{
 "cells": [
  {
   "cell_type": "markdown",
   "metadata": {},
   "source": [
    "<h1 style=\"text-align:center;\">Лабораторная работа №2</h1>\n",
    "\n",
    "<h3 style=\"text-align:center;\">Тулупов Николай Дмитриевич</h3>\n",
    "<h3 style=\"text-align:center;\">Б01-204</h3>\n",
    "\n",
    "\n",
    "Цель: решить выбранную СЛАУ следующими методами (постараться избежать умножения матриц, использовать поэлементные записи): \n",
    "1. метод Гаусса с выбором главного элемента\n",
    "2. метод LU-разложение (если применим)\n",
    "3. метод Якоби\n",
    "4. метод Зейделя\n",
    "5. метод верхней релаксации\n",
    "6. метод градиентного спуска\n",
    "7. метод минимальных невязок\n",
    "8. стабилизированный метод бисопряженных градиентов\n",
    "\n",
    "*Для итерационных методов получить график убывания невязки в зависимости от итерации."
   ]
  },
  {
   "cell_type": "markdown",
   "metadata": {},
   "source": [
    "<h3 style=\"text-align:center;\">Прямые методы</h3>\n",
    "\n",
    "1) Метод Гаусса с выбором главного элемента.\n",
    "- Прямой ход - приводим заданную матрицу A к верхнетреугольному виду:\n",
    "    - находим главный (максимальный по модулю) элемент матрицы\n",
    "    - меняем местами строки матрицы и элементы столбца решений так, чтобы главный элемент оказался в верхнем левом углу\n",
    "    - меняем местами столбца матрицы и элементы столбца переменных так, чтобы главный элемент оказался в верхнем левом углу\n",
    "    - делим нулевую строку матрицы и нулевой элемент столбца решений на главный элемент\n",
    "    - вычитаем из каждого элемента нулевой в текущем столбце решений, умноженный на нулевой элемент нужной строки - получаем в начале каждой строки единицу\n",
    "    - вычитаем из каждой строки матрицы нулевую, умноженную на нулевой элемент нужной строки - получаем в начале каждой строки единицу\n",
    "- повторяем весь алгоритм выше для всех матриц, получаемых из исходной сдвигом левого верхнего угла на один вправо и вниз\n",
    "- последний элемент столбца решений делим на последний элемент матрицы, который делаем = 1\n",
    "- Обратный ход:\n",
    "    - вычисляем элементы столбец переменных\n",
    "    - меняем в этом столбце порядок переменных в соответствии с найденным\n",
    "- возвращаем столбец решений\n",
    "\n",
    "\n",
    "\n"
   ]
  },
  {
   "cell_type": "code",
   "execution_count": 36,
   "metadata": {},
   "outputs": [],
   "source": [
    "%matplotlib inline\n",
    "import numpy as np\n",
    "import matplotlib.pyplot as plt\n",
    "import time\n",
    "# формат вывода\n",
    "np.set_printoptions(precision=5, suppress=True, formatter={'all': lambda x: f'{x:0.5f}'})\n",
    "\n",
    "#почти все формулы - из методички Томск-СЛАУ :)\n"
   ]
  },
  {
   "cell_type": "code",
   "execution_count": 46,
   "metadata": {},
   "outputs": [],
   "source": [
    "a = 20 #константа - зависит от варианта задания\n",
    "size = 100 #размер матриц\n",
    "A = ((a-1)*np.eye(size) + np.ones(size)) #матрица А\n",
    "f = np.zeros((size, 1)) \n",
    "for i in range(size): f[i] = i + 1 # столбец решений f"
   ]
  },
  {
   "cell_type": "code",
   "execution_count": 47,
   "metadata": {},
   "outputs": [],
   "source": [
    "def norm3_vect(vect):\n",
    "    return pow(sum(el**2 for el in vect), 0.5)\n"
   ]
  },
  {
   "cell_type": "code",
   "execution_count": 48,
   "metadata": {},
   "outputs": [],
   "source": [
    "def swap_rows(A, row1, row2): #функция для смены строк в матрице\n",
    "    A[[row1, row2]] = A[[row2, row1]]\n",
    "\n",
    "def swap_columns(A, col1, col2): #функция для смены столбцов в матрице\n",
    "    A[:, [col1, col2]] = A[:, [col2, col1]]\n",
    "\n",
    "def find_max_el(A, iter): #функция для поиска главного элемента матрицы A[iter,iter]\n",
    "    size = len(A) - iter\n",
    "    main_element = A[iter,iter]\n",
    "    i_main, j_main = iter, iter\n",
    "\n",
    "    for i in range(iter, size): \n",
    "        for j in range(iter, size):\n",
    "            if abs(A[iter:, iter:][i][j]) > abs(main_element):\n",
    "                i_main, j_main = i, j\n",
    "                main_element = A[iter:, iter:][i][j]\n",
    "    return main_element, i_main, j_main"
   ]
  },
  {
   "cell_type": "code",
   "execution_count": 49,
   "metadata": {},
   "outputs": [],
   "source": [
    "def gauss(A, f):\n",
    "    print(\"Решение СЛАУ методом Гаусса с выбором макс элемента\")\n",
    "    size = len(A)\n",
    "    if A.shape[0] != A.shape[1]:\n",
    "        print(\"Матрица не квадратная, решение невозможно!\")\n",
    "        return \n",
    "    x = np.arange(size) #массив с порядком корней (порядок будет меняться при перестановке столбцов)\n",
    "\n",
    "    #прямой ход алгоритма - приводим матрицу A к верхнетреугольному виду\n",
    "    for iter in range(len(A)):\n",
    "        ''' Добавим в алгоритм проверку - если на какой-то итерации алгоритма возникла нулевая строка - ответ будет выражаться \n",
    "        через одну из переменных (её берем за константу, все остальные переменные будут выражены через нее)'''\n",
    "        if (len(A) != sum(int(np.any(el)) for el in A)):\n",
    "            '''Количество переменных превышает количество уравнений, решение не однозначн'''\n",
    "            print(\"ERROR! Матрица не квадратная, решение невозможно!\")\n",
    "            return \n",
    "        \n",
    "        main_el, i_main, j_main = find_max_el(A, iter) #максимальный элемент текущей матрицы и его местонахождение\n",
    "        \n",
    "        if (i_main != iter): #если элемент еще не в нулевой строке\n",
    "            swap_rows(A, iter, i_main) #меняем в текущей матрице нулевую строку и строку, содержащую главный элемент            \n",
    "            #то же самое - в столбце решений\n",
    "            temp = f[iter]\n",
    "            f[iter] =  f[i_main]\n",
    "            f[i_main] = temp \n",
    "            \n",
    "        if (j_main != iter): #если элемент еще не в нулевом столбце\n",
    "            swap_columns(A, iter, j_main) #меняем в текущей матрице нулевой столбец и столбец, содержащий главный элемент\n",
    "            #то же самое - в строке порядка переменных\n",
    "            temp = x[iter]\n",
    "            x[iter] =  x[j_main]\n",
    "            f[j_main] = temp\n",
    "        \n",
    "        if main_el != 0:\n",
    "            A[iter:, iter:][0] /= main_el #делим нулевую строку текущей матрицы на главный элемент\n",
    "            f[iter] /= main_el #делим нулевую строку текущего столбца решений на главный элемент\n",
    "        else:\n",
    "            print(\"ERROR! main_el = 0\")\n",
    "            return\n",
    "    \n",
    "        for i in range(size - iter - 1):   \n",
    "            f[i+iter+1] -= (f[iter] * A[iter:, iter:][i+1][0])\n",
    "            #вычитаем из каждого элемента нулевой в текущем столбце решений, умноженный на нулевой элемент нужной строки - получаем в начале каждой строки единицу\n",
    "            A[iter:, iter:][i+1] -=  (A[iter:, iter:][0] * A[iter:, iter:][i+1][0])\n",
    "            #вычитаем из каждой строки нулевую, умноженную на нулевой элемент нужной строки - получаем в начале каждой строки единицу\n",
    "        \n",
    "    f[-1] /= A[-1][-1]\n",
    "    A[size-1][size-1] = 1\n",
    "\n",
    "\n",
    "    \n",
    "    #обратный ход алгоритма\n",
    "    U  = np.zeros((size, 1)) #столбец решений\n",
    "    for i in range(size-1, -1, -1):\n",
    "        U[i] = f[i]\n",
    "        for j in range(i + 1, size):\n",
    "            U[i] -= U[j] * A[i][j]\n",
    "\n",
    "    #перестановка переменных в изначальном порядке\n",
    "    ans = np.zeros((size, 1))\n",
    "    for i in range(size):\n",
    "        ans[int(x[i])] = U[i]\n",
    "    \n",
    "    return ans"
   ]
  },
  {
   "cell_type": "code",
   "execution_count": 69,
   "metadata": {},
   "outputs": [
    {
     "name": "stdout",
     "output_type": "stream",
     "text": [
      "Решение СЛАУ методом Гаусса с выбором макс элемента\n",
      "Погрешность метода = [ 2.45908e-13]\n",
      "Проверка: OK\n",
      "Время выполнения = 197.4480 мс\n"
     ]
    }
   ],
   "source": [
    "start_time = time.time()\n",
    "\n",
    "A_gauss = np.copy(A) #сохраним исходную матрицу А в отдельной переменной\n",
    "f_gauss = np.copy(f) #и столбец решений тоже сохраним в отдельной переменной\n",
    "#это - т к иначе python расценит разные numpy матрицы как ссылающиеся на один объект\n",
    "\n",
    "u = gauss(A_gauss, f_gauss) #столбец решений\n",
    "\n",
    "# Проверка - перемножаем и вычисляем норму разницы\n",
    "error = norm3_vect(A@u - f) \n",
    "\n",
    "np.set_printoptions(formatter={'float': '{: 0.5e}'.format})\n",
    "print(\"Погрешность метода = \", error, \"\\n\", \"Проверка: \", sep = \"\",end = \"\")\n",
    "#проверяем на приблизительное равенство из-за машинных ошибок\n",
    "if (error > 1e-5): print(\"Error\")\n",
    "else: print(\"OK\")\n",
    "\n",
    "time_gauss = time.time() - start_time\n",
    "print(\"Время выполнения = {0:.4f} мс\".format(1000*time_gauss))"
   ]
  },
  {
   "cell_type": "markdown",
   "metadata": {},
   "source": [
    "2) LU - разложение.\n",
    "- Прямой ход - разделяем исходную матрицу А на верхнетреугольную U и нижнетреугольную L - в произведении они дают исходную\n",
    "- Обратный ход:\n",
    "    - из уравнения Ly = f получаем столбец y\n",
    "    - из уравнения Ux = y получаем стообец x  \n"
   ]
  },
  {
   "cell_type": "code",
   "execution_count": 67,
   "metadata": {},
   "outputs": [],
   "source": [
    "def LU_decomp(A):\n",
    "\n",
    "    size = len(A)\n",
    "    L = np.zeros((size,size))\n",
    "    U = np.zeros((size,size))\n",
    "\n",
    "    for i in range(size):\n",
    "        L[i][i] = 1\n",
    "        for j in range(i, size):\n",
    "            Uij = (A[i][j] - sum(L[i][k] * U[k][j] for k in range(i)))\n",
    "            if Uij == 0:\n",
    "                print(\"Error! devision by 0\")\n",
    "                return\n",
    "            U[i][j] = Uij\n",
    "            #вычисляем элементы матриц L и U построчно, друг через друга\n",
    "            L[j][i] = (A[j][i] - sum(L[j][k] * U[k][i] for k in range(i))) / U[i][i]\n",
    "\n",
    "    '''Проверка'''\n",
    "    if norm3_matr(L@U - A) > 1e-5:\n",
    "        print(\"Error! false\")\n",
    "        return \n",
    "    \n",
    "    return L, U"
   ]
  },
  {
   "cell_type": "code",
   "execution_count": 68,
   "metadata": {},
   "outputs": [],
   "source": [
    "def LU(A, f):\n",
    "    print(\"Решение СЛАУ с помощью LU-разложения\")\n",
    "    size = len(A)\n",
    "    \n",
    "    #LU-разложение матрицы A\n",
    "    LU_dec = LU_decomp(A)\n",
    "    L = LU_dec[0]\n",
    "    U = LU_dec[1]\n",
    "    \n",
    "    \n",
    "    #обратный ход - решение СЛАУ\n",
    "    #Ly = f \n",
    "    y = np.ones((size, 1))\n",
    "    for i in range(size):\n",
    "        y[i] = f[i] - sum(L[i][j] * y[j] for j in range(i))\n",
    "    \n",
    "    #Ux = y \n",
    "    x = np.ones((size, 1))\n",
    "    for i in range(size-1, -1, -1):\n",
    "        x[i] = (y[i] - sum(U[i][j] * x[j] for j in range(i+1, size))) / U[i][i]\n",
    "    \n",
    "    return x"
   ]
  },
  {
   "cell_type": "code",
   "execution_count": 70,
   "metadata": {},
   "outputs": [
    {
     "name": "stdout",
     "output_type": "stream",
     "text": [
      "Решение СЛАУ с помощью LU-разложения\n",
      "Погрешность метода = [ 1.96173e-13]\n",
      "Проверка: OK\n",
      "Время выполнения = 324.3916 мс\n"
     ]
    }
   ],
   "source": [
    "start_time = time.time()\n",
    "\n",
    "A_lu = np.copy(A) \n",
    "f_lu = np.copy(f) \n",
    "\n",
    "ans = LU(A_lu, f_lu)\n",
    "\n",
    "\n",
    "# Проверка \n",
    "error = norm3_vect(A@ans - f)\n",
    "np.set_printoptions(formatter={'float': '{: 0.5e}'.format})\n",
    "print(\"Погрешность метода = \", error, \"\\n\", \"Проверка: \", sep = \"\",end = \"\")\n",
    "if  (error > 1e-5): print(\"Error!\") \n",
    "else: print(\"OK\")\n",
    "\n",
    "time_lu = time.time() - start_time\n",
    "print(\"Время выполнения = {0:.4f} мс\".format(1000*time_lu))"
   ]
  },
  {
   "cell_type": "markdown",
   "metadata": {},
   "source": [
    "\n",
    "<h3 style=\"text-align:center;\">Итерационные методы</h3>\n",
    "\n",
    "3) Метод Якоби.\n",
    "\n",
    "- Задаем точность ε\n",
    "- Пока невязка (норма) разницы произведения исходной матрицы и полученного столбца переменных x и столбца решений f больше нормы, проводим итерационный цикл:\n",
    "    - вычисляем элементы нового столбца переменных через элементы старого и элементы исходной матрицы\n",
    "\n",
    "    В зависимости от заданной точности пропорционально будет меняться количество итераций, которое понадобилось для приближения с такой точностью. Построим график зависимости количества итераций от заданной невязки. "
   ]
  },
  {
   "cell_type": "code",
   "execution_count": 72,
   "metadata": {},
   "outputs": [],
   "source": [
    "def Jacobi(A, f, x0, eps):\n",
    "    \n",
    "    size = len(A)\n",
    "\n",
    "    x_old = np.copy(x0)\n",
    "    x_new = np.copy(x0)\n",
    "    iter = 0\n",
    "\n",
    "    norm = norm3_vect(A @ x_new - f)\n",
    "\n",
    "    while (norm > eps):\n",
    "        for i in range(size):\n",
    "            x_new[i] = 0\n",
    "            for j in range(size):\n",
    "                if (j != i):\n",
    "                    x_new[i] = x_new[i] + A[i][j] * x_old[j]\n",
    "            x_new[i] = (f[i] - x_old[i]) / A[i][i]\n",
    "        x_old = x_new\n",
    "        iter += 1\n",
    "        norm = norm3_vect(A @ x_new - f)\n",
    "\n",
    "        \n",
    "    return x_new, iter\n",
    "        "
   ]
  },
  {
   "cell_type": "code",
   "execution_count": 89,
   "metadata": {},
   "outputs": [
    {
     "name": "stdout",
     "output_type": "stream",
     "text": [
      "Количество итераций =  54\n",
      "Погрешность метода = [ 7.44009e-06] < eps = 1e-05\n",
      "Проверка: OK\n",
      "Время выполнения = 1706.2886 мс\n"
     ]
    }
   ],
   "source": [
    "start_time = time.time()\n",
    "A_ya = np.copy(A) \n",
    "f_ya = np.copy(f)\n",
    "\n",
    "eps = 1.00000e-5\n",
    "\n",
    "u_0 = np.ones((size,1))\n",
    "J = Jacobi(A_ya, f_ya, u_0, eps)\n",
    "print(\"Количество итераций = \", J[1])\n",
    "\n",
    "# Проверка \n",
    "x = J[0]\n",
    "error = norm3_vect(A@x - f)\n",
    "np.set_printoptions(formatter={'float': '{: 0.5e}'.format})\n",
    "print(\"Погрешность метода = \", error, \" < eps = \", eps, \"\\n\", \"Проверка: \", sep = \"\",end = \"\")\n",
    "if  (error > eps): print(\"Error!\") \n",
    "else: print(\"OK\")\n",
    "\n",
    "time_ya = time.time() - start_time\n",
    "print(\"Время выполнения = {0:.4f} мс\".format(1000*time_ya))"
   ]
  },
  {
   "cell_type": "markdown",
   "metadata": {},
   "source": [
    "4) Метод Гаусса-Зейделя  \n",
    "- Задаем точность ε\n",
    "- Пока невязка (норма) разницы произведения исходной матрицы и полученного столбца переменных x и столбца решений f больше нормы, проводим итерационный цикл:\n",
    "    - вычисляем элементы нового столбца переменных через элементы старого и элементы исходной матрицы\n",
    "\n",
    "    В зависимости от заданной точности пропорционально будет меняться количество итераций, которое понадобилось для приближения с такой точностью. Построим график зависимости количества итераций от заданной невязки. "
   ]
  },
  {
   "cell_type": "code",
   "execution_count": 85,
   "metadata": {},
   "outputs": [],
   "source": [
    "def Seidel(A, f, x0, eps):\n",
    "    \n",
    "    size = len(A)\n",
    "    \n",
    "    x_old = np.copy(x0)\n",
    "    x_new = np.copy(x0)\n",
    "    iter = 0\n",
    "\n",
    "    norm = norm3_vect(A @ x_new - f)\n",
    "\n",
    "    while (norm > eps):\n",
    "        for i in range(size):\n",
    "            sig = 0\n",
    "            for j in range(i):\n",
    "                sig += A[i][j] * x_new[j]\n",
    "            for j in range(i+1, size):\n",
    "                sig += A[i][j] * x_old[j]\n",
    "            \n",
    "            x_new[i] = (f[i] - sig) / A[i][i]\n",
    "              \n",
    "        x_old = x_new\n",
    "        iter += 1\n",
    "        norm = norm3_vect(A @ x_new - f)\n",
    "\n",
    "        \n",
    "    return x_new, iter\n",
    "        "
   ]
  },
  {
   "cell_type": "code",
   "execution_count": 88,
   "metadata": {},
   "outputs": [
    {
     "name": "stdout",
     "output_type": "stream",
     "text": [
      "Количество итераций =  51\n",
      "Погрешность метода = [ 6.85481e-06] < eps = 1e-05\n",
      "Проверка: OK\n",
      "Время выполнения = 2095.3870 мс\n"
     ]
    }
   ],
   "source": [
    "start_time = time.time()\n",
    "A_s = np.copy(A) \n",
    "f_s = np.copy(f)\n",
    "eps = 1.00000e-5\n",
    "\n",
    "u_0 = np.ones((size,1))\n",
    "S = Seidel(A_s, f_s, u_0, eps)\n",
    "print(\"Количество итераций = \", S[1])\n",
    "\n",
    "# Проверка \n",
    "x = S[0]\n",
    "error = norm3_vect(A@x - f)\n",
    "np.set_printoptions(formatter={'float': '{: 0.5e}'.format})\n",
    "print(\"Погрешность метода = \", error, \" < eps = \", eps, \"\\n\", \"Проверка: \", sep = \"\",end = \"\")\n",
    "if  (error > eps): print(\"Error!\") \n",
    "else: print(\"OK\")\n",
    "\n",
    "time_s = time.time() - start_time\n",
    "print(\"Время выполнения = {0:.4f} мс\".format(1000*time_s))"
   ]
  },
  {
   "cell_type": "code",
   "execution_count": null,
   "metadata": {},
   "outputs": [],
   "source": []
  }
 ],
 "metadata": {
  "kernelspec": {
   "display_name": "base",
   "language": "python",
   "name": "python3"
  },
  "language_info": {
   "codemirror_mode": {
    "name": "ipython",
    "version": 3
   },
   "file_extension": ".py",
   "mimetype": "text/x-python",
   "name": "python",
   "nbconvert_exporter": "python",
   "pygments_lexer": "ipython3",
   "version": "3.12.4"
  }
 },
 "nbformat": 4,
 "nbformat_minor": 2
}

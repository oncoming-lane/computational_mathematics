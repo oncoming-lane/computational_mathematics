{
 "cells": [
  {
   "cell_type": "markdown",
   "metadata": {},
   "source": [
    "<h1 style=\"text-align:center;\">Лабораторная работа №3</h1>\n",
    "\n",
    "<h2 style=\"text-align:center;\">Решение системы нелинейных алгебраических уравнений различными методами</h2>\n",
    "\n",
    "<h3 style=\"text-align:center;\">Тулупов Николай Дмитриевич</h3>\n",
    "<h3 style=\"text-align:center;\">Б01-204</h3>\n",
    "\n",
    "\n",
    "Цель: решить выбранную НЛАУ перечисленными методами: \n",
    "1. Метод простой итерации "
   ]
  },
  {
   "cell_type": "code",
   "execution_count": 157,
   "metadata": {},
   "outputs": [],
   "source": [
    "import numpy as np\n",
    "import time\n",
    "import matplotlib.pyplot as plt"
   ]
  },
  {
   "cell_type": "markdown",
   "metadata": {},
   "source": [
    "<img src=\"images/task_lab_3_1.png\" alt=\"drawing\" width=\"600\"/>\n"
   ]
  },
  {
   "cell_type": "code",
   "execution_count": 158,
   "metadata": {},
   "outputs": [],
   "source": [
    "def MSA(f, x0, eps, max_iter):\n",
    "    x = x0\n",
    "    iter = 0\n",
    "\n",
    "    while 1:\n",
    "        fx = f(x) \n",
    "        if isinstance(fx, (int, float)):\n",
    "            if abs(x - fx) < eps:\n",
    "                return x, iter\n",
    "            x = fx\n",
    "        else:\n",
    "            print(fx)\n",
    "            return x, iter\n",
    "        \n",
    "        \n",
    "        \n",
    "        iter += 1\n",
    "        if iter >= max_iter:\n",
    "            print(\"Превышено максимально допустимое количество итераций\")\n",
    "            break\n",
    "        "
   ]
  },
  {
   "cell_type": "code",
   "execution_count": 159,
   "metadata": {},
   "outputs": [
    {
     "name": "stdout",
     "output_type": "stream",
     "text": [
      "0.25 0.7548776663070152 15\n",
      "0.5 0.7548776662740349 15\n",
      "1 0.7548776662246666 15\n",
      "2 0.7548776662651681 16\n",
      "4 0.7548776662804131 16\n",
      "8 0.7548776662951936 16\n",
      "16 0.7548776663081205 16\n",
      "32 0.7548776663186453 16\n",
      "64 0.7548776663268173 16\n",
      "128 0.7548776662281365 17\n",
      "256 0.7548776662271606 17\n",
      "512 0.7548776662264503 17\n",
      "Время выполнения = 2.9993 мс\n"
     ]
    }
   ],
   "source": [
    "start_time = time.time()\n",
    "#вариант м\n",
    "def f(x):\n",
    "    return 1/np.sqrt(x+1)\n",
    "\n",
    "x0_1 = []\n",
    "iters_1 = []\n",
    "eps = 1.00000e-10\n",
    "for i in range(-2, 10, 1):\n",
    "    x0 = 2 ** i\n",
    "    x0_1.append(x0)\n",
    "    msa = MSA(f, x0, eps, 10000)\n",
    "    x, iterations = msa\n",
    "    iters_1.append(iterations)\n",
    "    print(x0, x, iterations)\n",
    "\n",
    "\n",
    "time_msa = 1000*(time.time() - start_time)\n",
    "print(\"Время выполнения = {0:.4f} мс\".format(time_msa))"
   ]
  },
  {
   "cell_type": "code",
   "execution_count": 160,
   "metadata": {},
   "outputs": [
    {
     "name": "stdout",
     "output_type": "stream",
     "text": [
      "Ошибка: деление на ноль!\n",
      "0.25 0.0 9\n",
      "Ошибка: деление на ноль!\n",
      "0.5 0.0 12\n",
      "Ошибка: деление на ноль!\n",
      "1 0.0 1\n",
      "Ошибка: деление на ноль!\n",
      "2 0.0 17\n",
      "Ошибка: деление на ноль!\n",
      "4 0.0 11\n",
      "Ошибка: деление на ноль!\n",
      "8 0.0 8\n",
      "Ошибка: деление на ноль!\n",
      "16 0.0 8\n",
      "Ошибка: деление на ноль!\n",
      "32 0.0 8\n",
      "Ошибка: деление на ноль!\n",
      "64 0.0 8\n",
      "Ошибка: деление на ноль!\n",
      "128 0.0 8\n",
      "Ошибка: деление на ноль!\n",
      "256 0.0 5\n",
      "Ошибка: деление на ноль!\n",
      "512 0.0 5\n",
      "Время выполнения = 1.9975 мс\n"
     ]
    }
   ],
   "source": [
    "start_time = time.time()\n",
    "#вариант м\n",
    "def f(x):\n",
    "    try:\n",
    "        if x == 0:\n",
    "            raise ZeroDivisionError(\"Ошибка: деление на ноль!\")\n",
    "        return 1 / (x ** 2) - 1\n",
    "    except ZeroDivisionError as e:\n",
    "        return str(e)\n",
    "\n",
    "\n",
    "x0_2 = []\n",
    "iters_2 = []\n",
    "eps = 1.00000e-10\n",
    "for i in range(-2, 10, 1):\n",
    "    x0 = 2 ** i\n",
    "    x0_2.append(x0)\n",
    "    msa = MSA(f, x0, eps, 10000)\n",
    "    x, iterations = msa\n",
    "    iters_2.append(iterations)\n",
    "    print(x0, x, iterations)\n",
    "\n",
    "time_msa = 1000*(time.time() - start_time)\n",
    "print(\"Время выполнения = {0:.4f} мс\".format(time_msa))"
   ]
  },
  {
   "cell_type": "code",
   "execution_count": null,
   "metadata": {},
   "outputs": [],
   "source": [
    "plt.figure(figsize = [12,8], dpi = 500)\n",
    "\n",
    "plt.plot(x0_1, iters_1, label = \"Метод простой итерации для f = 1/\\sqrt(x+1)\")\n",
    "plt.plot(x0_2, iters_2, label = \"Метод простой итерации для f = 1/x^2-1\")\n",
    "\n",
    "plt.xscale('log')\n",
    "#plt.yscale('log')\n",
    "\n",
    "plt.xlabel('Начальное приближение')\n",
    "plt.ylabel('Количество итераций')\n",
    "\n",
    "#plt.xticks(np.arange(start = 10, stop=110, step = 10))\n",
    "\n",
    "#plt.yticks(np.arange(start = 20, stop = 30, step = 1))\n",
    "\n",
    "\n",
    "plt.legend()\n",
    "plt.grid()\n",
    "plt.show()"
   ]
  },
  {
   "cell_type": "markdown",
   "metadata": {},
   "source": [
    "Метод Ньютона\n"
   ]
  },
  {
   "cell_type": "markdown",
   "metadata": {},
   "source": [
    "Системы нелинейных алгебраических уравнений"
   ]
  },
  {
   "cell_type": "markdown",
   "metadata": {},
   "source": [
    "Метод МПИ для систем"
   ]
  },
  {
   "cell_type": "markdown",
   "metadata": {},
   "source": [
    "<img src=\"images/task_lab_3_2.png\" alt=\"drawing\" width=\"600\"/>\n"
   ]
  },
  {
   "cell_type": "code",
   "execution_count": 182,
   "metadata": {},
   "outputs": [],
   "source": [
    "# система б\n",
    "def fx(x, y):\n",
    "    return np.sqrt(np.tan(x*y + 0.4))\n",
    "\n",
    "def fy(x):\n",
    "    s = (1-0.6*x**2)/2\n",
    "    if s < 0:\n",
    "        return \"(1-0.6*x**2)/2 < 0\"\n",
    "    else:\n",
    "        return np.sqrt(s)"
   ]
  },
  {
   "cell_type": "code",
   "execution_count": 183,
   "metadata": {},
   "outputs": [],
   "source": [
    "def MSU_(fx, fy, x0, y0, eps, max_iter):\n",
    "    x = x0\n",
    "    y = y0\n",
    "    iter = 0\n",
    "\n",
    "    while 1:\n",
    "        f_x = fx(x, y)\n",
    "        f_y = fy(x) \n",
    "        if isinstance(f_x, (int, float)) and isinstance(f_y, (int, float)):\n",
    "            if (abs(x - f_x) < eps) and (abs(y - f_y) < eps):\n",
    "                return x, y, iter\n",
    "            x = f_x\n",
    "            y = f_y\n",
    "        else:\n",
    "            print(\"Возникла ошибка\", f_x, f_y)\n",
    "            return x, y, iter\n",
    "              \n",
    "        iter += 1\n",
    "        if iter >= max_iter:\n",
    "            print(\"Превышено максимально допустимое количество итераций\")\n",
    "            break\n",
    "\n",
    "    return x, y, iter\n",
    "    "
   ]
  },
  {
   "cell_type": "code",
   "execution_count": 185,
   "metadata": {},
   "outputs": [
    {
     "data": {
      "text/plain": [
       "(np.float64(1.0484001411328012), np.float64(0.4126222767849122), 233)"
      ]
     },
     "execution_count": 185,
     "metadata": {},
     "output_type": "execute_result"
    }
   ],
   "source": [
    "(MSU_(fx, fy, 1, 0.4, eps, 1000))"
   ]
  },
  {
   "cell_type": "code",
   "execution_count": null,
   "metadata": {},
   "outputs": [],
   "source": []
  }
 ],
 "metadata": {
  "kernelspec": {
   "display_name": "Python 3",
   "language": "python",
   "name": "python3"
  },
  "language_info": {
   "codemirror_mode": {
    "name": "ipython",
    "version": 3
   },
   "file_extension": ".py",
   "mimetype": "text/x-python",
   "name": "python",
   "nbconvert_exporter": "python",
   "pygments_lexer": "ipython3",
   "version": "3.10.11"
  }
 },
 "nbformat": 4,
 "nbformat_minor": 2
}

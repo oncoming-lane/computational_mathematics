{
 "cells": [
  {
   "cell_type": "markdown",
   "metadata": {},
   "source": [
    "<h1 style=\"text-align:center;\">Лабораторная работа №3</h1>\n",
    "\n",
    "<h2 style=\"text-align:center;\">Решение системы нелинейных алгебраических уравнений различными методами</h2>\n",
    "\n",
    "<h3 style=\"text-align:center;\">Тулупов Николай Дмитриевич</h3>\n",
    "<h3 style=\"text-align:center;\">Б01-204</h3>\n",
    "\n",
    "\n",
    "Цель: решить выбранные НЛУ и НЛАУ перечисленными методами: \n",
    "1. метод простой итерации \n",
    "2. метод Ньютона"
   ]
  },
  {
   "cell_type": "code",
   "execution_count": 363,
   "metadata": {},
   "outputs": [],
   "source": [
    "import numpy as np\n",
    "import time\n",
    "import matplotlib.pyplot as plt"
   ]
  },
  {
   "cell_type": "code",
   "execution_count": 408,
   "metadata": {},
   "outputs": [],
   "source": [
    "#Используем метод Гаусса для решения СЛАУ из прошлой лабы!\n",
    "def norm3_vect(vect):\n",
    "    return pow(sum(el**2 for el in vect), 0.5)\n",
    "\n",
    "def matr_multipl(A, B):\n",
    "    \n",
    "    if A.shape[1] != B.shape[0]: return \n",
    "    AB = np.zeros((A.shape[0], B.shape[1]))\n",
    "    for i in range(A.shape[0]):\n",
    "        for j in range(B.shape[1]):\n",
    "            for k in range(A.shape[1]):\n",
    "                AB[i][j] += A[i][k] * B[k][j]\n",
    "    \n",
    "    return AB\n",
    "\n",
    "def swap_rows(A, row1, row2): #функция для смены строк в матрице\n",
    "    A[[row1, row2]] = A[[row2, row1]]\n",
    "\n",
    "def swap_columns(A, col1, col2): #функция для смены столбцов в матрице\n",
    "    A[:, [col1, col2]] = A[:, [col2, col1]]\n",
    "\n",
    "def find_max_el(A, iter): #функция для поиска главного элемента матрицы A[iter,iter]\n",
    "    size = len(A) - iter\n",
    "    main_element = A[iter,iter]\n",
    "    i_main, j_main = iter, iter\n",
    "\n",
    "    for i in range(iter, size): \n",
    "        for j in range(iter, size):\n",
    "            if abs(A[iter:, iter:][i][j]) > abs(main_element):\n",
    "                i_main, j_main = i, j\n",
    "                main_element = A[iter:, iter:][i][j]\n",
    "    return main_element, i_main, j_main\n",
    "\n",
    "def gauss(A, f):\n",
    "    size = len(A)\n",
    "    if A.shape[0] != A.shape[1]:\n",
    "        print(\"Матрица не квадратная, решение невозможно!\")\n",
    "        return \n",
    "    x = np.arange(size) #массив с порядком корней (порядок будет меняться при перестановке столбцов)\n",
    "\n",
    "    #прямой ход алгоритма - приводим матрицу A к верхнетреугольному виду\n",
    "    for iter in range(len(A)):\n",
    "        ''' Добавим в алгоритм проверку - если на какой-то итерации алгоритма возникла нулевая строка - ответ будет выражаться \n",
    "        через одну из переменных (её берем за константу, все остальные переменные будут выражены через нее)'''\n",
    "        if (len(A) != sum(int(np.any(el)) for el in A)):\n",
    "            '''Количество переменных превышает количество уравнений, решение не однозначн'''\n",
    "            print(\"ERROR! Матрица не квадратная, решение невозможно!\")\n",
    "            return \n",
    "        \n",
    "        main_el, i_main, j_main = find_max_el(A, iter) #максимальный элемент текущей матрицы и его местонахождение\n",
    "        \n",
    "        if (i_main != iter): #если элемент еще не в нулевой строке\n",
    "            swap_rows(A, iter, i_main) #меняем в текущей матрице нулевую строку и строку, содержащую главный элемент            \n",
    "            swap_rows(f, iter, i_main) #то же самое - в столбце решений       \n",
    "            \n",
    "        if (j_main != iter): #если элемент еще не в нулевом столбце\n",
    "            swap_columns(A, iter, j_main) #меняем в текущей матрице нулевой столбец и столбец, содержащий главный элемент\n",
    "            swap_columns(x, iter, j_main) #то же самое - в строке порядка переменных\n",
    "        \n",
    "        if main_el != 0:\n",
    "            A[iter:, iter:][0] /= main_el #делим нулевую строку текущей матрицы на главный элемент\n",
    "            f[iter] /= main_el #делим нулевую строку текущего столбца решений на главный элемент\n",
    "        else:\n",
    "            print(\"ERROR! main_el = 0\")\n",
    "            return\n",
    "    \n",
    "        for i in range(size - iter - 1):   \n",
    "            f[i+iter+1] -= (f[iter] * A[iter:, iter:][i+1][0])\n",
    "            #вычитаем из каждого элемента нулевой в текущем столбце решений, умноженный на нулевой элемент нужной строки - получаем в начале каждой строки единицу\n",
    "            A[iter:, iter:][i+1] -=  (A[iter:, iter:][0] * A[iter:, iter:][i+1][0])\n",
    "            #вычитаем из каждой строки нулевую, умноженную на нулевой элемент нужной строки - получаем в начале каждой строки единицу\n",
    "        \n",
    "    f[-1] /= A[-1][-1]\n",
    "    A[size-1][size-1] = 1\n",
    "\n",
    "\n",
    "    \n",
    "    #обратный ход алгоритма\n",
    "    U  = np.zeros((size, 1)) #столбец решений\n",
    "    for i in range(size-1, -1, -1):\n",
    "        U[i] = f[i]\n",
    "        for j in range(i + 1, size):\n",
    "            U[i] -= U[j] * A[i][j]\n",
    "\n",
    "    #перестановка переменных в изначальном порядке\n",
    "    ans = np.zeros((size, 1))\n",
    "    for i in range(size):\n",
    "        ans[int(x[i])] = U[i]\n",
    "    \n",
    "    return ans"
   ]
  },
  {
   "cell_type": "markdown",
   "metadata": {},
   "source": [
    "__<h3 style=\"text-align:center;\">Решение нелинейных алгебраических уравнений</h3>__"
   ]
  },
  {
   "cell_type": "markdown",
   "metadata": {},
   "source": [
    "**1) Метод простой итерации для НАУ.**"
   ]
  },
  {
   "cell_type": "markdown",
   "metadata": {},
   "source": [
    "<img src=\"images/task_lab_3_1.png\" alt=\"drawing\" width=\"600\"/>\n",
    "\n",
    "вариант м\n",
    "/"
   ]
  },
  {
   "cell_type": "code",
   "execution_count": 365,
   "metadata": {},
   "outputs": [],
   "source": [
    "#FPI - fixed point iteration\n",
    "def FPI(f, x0, eps, max_iter):\n",
    "    x = x0\n",
    "    iter = 0\n",
    "\n",
    "    while 1:\n",
    "        fx = f(x) \n",
    "        if isinstance(fx, (int, float)):\n",
    "            if abs(x - fx) < eps:\n",
    "                return x, iter\n",
    "            x = fx\n",
    "        else:\n",
    "            print(fx)\n",
    "            return x, iter\n",
    "        \n",
    "        \n",
    "        \n",
    "        iter += 1\n",
    "        if iter >= max_iter:\n",
    "            print(\"Превышено максимально допустимое количество итераций\")\n",
    "            break\n",
    "        "
   ]
  },
  {
   "cell_type": "markdown",
   "metadata": {},
   "source": [
    "Изучим скорость сходимости метода для начальных приближений, равных 2^n, где n - целые числа"
   ]
  },
  {
   "cell_type": "code",
   "execution_count": 366,
   "metadata": {},
   "outputs": [
    {
     "name": "stdout",
     "output_type": "stream",
     "text": [
      "0.25 0.7548776663070152 15\n",
      "0.5 0.7548776662740349 15\n",
      "1 0.7548776662246666 15\n",
      "2 0.7548776662651681 16\n",
      "4 0.7548776662804131 16\n",
      "8 0.7548776662951936 16\n",
      "16 0.7548776663081205 16\n",
      "32 0.7548776663186453 16\n",
      "64 0.7548776663268173 16\n",
      "128 0.7548776662281365 17\n",
      "256 0.7548776662271606 17\n",
      "512 0.7548776662264503 17\n"
     ]
    }
   ],
   "source": [
    "def f(x):\n",
    "    return 1/np.sqrt(x+1)\n",
    "\n",
    "x0_1 = []\n",
    "iters_1 = []\n",
    "eps = 1.00000e-10\n",
    "for i in range(-2, 10, 1):\n",
    "    x0 = 2 ** i\n",
    "    x0_1.append(x0)\n",
    "    msa = FPI(f, x0, eps, 10000)\n",
    "    x, iterations = msa\n",
    "    iters_1.append(iterations)\n",
    "    print(x0, x, iterations)\n"
   ]
  },
  {
   "cell_type": "code",
   "execution_count": 367,
   "metadata": {},
   "outputs": [
    {
     "name": "stdout",
     "output_type": "stream",
     "text": [
      "Ошибка: деление на ноль!\n",
      "0.25 0.0 9\n",
      "Ошибка: деление на ноль!\n",
      "0.5 0.0 12\n",
      "Ошибка: деление на ноль!\n",
      "1 0.0 1\n",
      "Ошибка: деление на ноль!\n",
      "2 0.0 17\n",
      "Ошибка: деление на ноль!\n",
      "4 0.0 11\n",
      "Ошибка: деление на ноль!\n",
      "8 0.0 8\n",
      "Ошибка: деление на ноль!\n",
      "16 0.0 8\n",
      "Ошибка: деление на ноль!\n",
      "32 0.0 8\n",
      "Ошибка: деление на ноль!\n",
      "64 0.0 8\n",
      "Ошибка: деление на ноль!\n",
      "128 0.0 8\n",
      "Ошибка: деление на ноль!\n",
      "256 0.0 5\n",
      "Ошибка: деление на ноль!\n",
      "512 0.0 5\n",
      "Время выполнения = 1.3077 мс\n"
     ]
    }
   ],
   "source": [
    "start_time = time.time()\n",
    "#вариант м\n",
    "def f(x):\n",
    "    try:\n",
    "        if x == 0:\n",
    "            raise ZeroDivisionError(\"Ошибка: деление на ноль!\")\n",
    "        return 1 / (x ** 2) - 1\n",
    "    except ZeroDivisionError as e:\n",
    "        return str(e)\n",
    "\n",
    "\n",
    "x0_2 = []\n",
    "iters_2 = []\n",
    "eps = 1.00000e-10\n",
    "for i in range(-2, 10, 1):\n",
    "    x0 = 2 ** i\n",
    "    x0_2.append(x0)\n",
    "    msa = FPI(f, x0, eps, 10000)\n",
    "    x, iterations = msa\n",
    "    iters_2.append(iterations)\n",
    "    print(x0, x, iterations)\n",
    "\n",
    "time_msa = 1000*(time.time() - start_time)\n",
    "print(\"Время выполнения = {0:.4f} мс\".format(time_msa))"
   ]
  },
  {
   "cell_type": "markdown",
   "metadata": {},
   "source": [
    "Видим, что некоторый выбор функции может быть неудачным - мы выйдем за границы области определения функции."
   ]
  },
  {
   "cell_type": "markdown",
   "metadata": {},
   "source": [
    "**2) Метод Ньютона для НАУ.**"
   ]
  },
  {
   "cell_type": "code",
   "execution_count": 368,
   "metadata": {},
   "outputs": [],
   "source": [
    "def newton(f, df, x0, eps, max_iter = 1000):\n",
    "    x = x0\n",
    "    for i in range(max_iter):\n",
    "        try:\n",
    "            x_next = x - f(x) / df(x)\n",
    "            if abs(x_next - x) < eps:\n",
    "                return x_next, i\n",
    "            x = x_next\n",
    "\n",
    "        except ZeroDivisionError:\n",
    "            print(\"Ошибка: деление на ноль!\")\n",
    "            return None\n",
    "        \n",
    "        except ValueError as e:\n",
    "            print(f\"Ошибка: {e}\")\n",
    "            return None\n",
    "    \n",
    "    print(\"Достигнуто максимальное количество итераций.\")\n",
    "    return x, i"
   ]
  },
  {
   "cell_type": "markdown",
   "metadata": {},
   "source": [
    "Исследуем зависимость итераций алгоритма нахождения корня уравнения от начального приближения - будем выбирать его в окрестности корня радиуса 0,5."
   ]
  },
  {
   "cell_type": "code",
   "execution_count": 369,
   "metadata": {},
   "outputs": [
    {
     "name": "stdout",
     "output_type": "stream",
     "text": [
      " При x0 = 0.10 найденное решение: 0.75488\n",
      " При x0 = 0.15 найденное решение: 0.75488\n",
      " При x0 = 0.20 найденное решение: 0.75488\n",
      " При x0 = 0.25 найденное решение: 0.75488\n",
      " При x0 = 0.30 найденное решение: 0.75488\n",
      " При x0 = 0.35 найденное решение: 0.75488\n",
      " При x0 = 0.40 найденное решение: 0.75488\n",
      " При x0 = 0.45 найденное решение: 0.75488\n",
      " При x0 = 0.50 найденное решение: 0.75488\n",
      " При x0 = 0.55 найденное решение: 0.75488\n",
      " При x0 = 0.60 найденное решение: 0.75488\n",
      " При x0 = 0.65 найденное решение: 0.75488\n",
      " При x0 = 0.70 найденное решение: 0.75488\n",
      " При x0 = 0.75 найденное решение: 0.75488\n",
      " При x0 = 0.80 найденное решение: 0.75488\n",
      " При x0 = 0.85 найденное решение: 0.75488\n",
      " При x0 = 0.90 найденное решение: 0.75488\n",
      " При x0 = 0.95 найденное решение: 0.75488\n",
      " При x0 = 1.00 найденное решение: 0.75488\n",
      " При x0 = 1.05 найденное решение: 0.75488\n",
      " При x0 = 1.10 найденное решение: 0.75488\n",
      " При x0 = 1.15 найденное решение: 0.75488\n",
      " При x0 = 1.20 найденное решение: 0.75488\n",
      " При x0 = 1.25 найденное решение: 0.75488\n",
      " При x0 = 1.30 найденное решение: 0.75488\n",
      " При x0 = 1.35 найденное решение: 0.75488\n"
     ]
    }
   ],
   "source": [
    "def f(x):\n",
    "    if x + 1 < 0:  # Проверяем, чтобы подкоренное выражение было положительным\n",
    "        raise ValueError(\"Недопустимое значение: x + 1 должно быть >= 0\")\n",
    "    return np.sqrt(x + 1) - 1 / x\n",
    "\n",
    "def df(x):\n",
    "    if x + 1 < 0: # Проверяем, чтобы подкоренное выражение было положительным\n",
    "        raise ValueError(\"Недопустимое значение: x + 1 должно быть >= 0\")\n",
    "    return 1 / (2 * np.sqrt(x + 1)) + 1 / (x ** 2)\n",
    "\n",
    "\n",
    "x0_newt = []\n",
    "iter_newt = []\n",
    "x0 = 0.1\n",
    "while x0 < 1.4:\n",
    "    # Начальное приближени\n",
    "    N = newton(f, df, x0, eps)\n",
    "    if N is not None:\n",
    "        x, iter = N[0], N[1] \n",
    "        print(f\" При x0 = {x0:.2f} найденное решение: {x:.5f}\")\n",
    "\n",
    "        x0_newt.append(x0)\n",
    "        iter_newt.append(iter)\n",
    "        x0 += 0.05"
   ]
  },
  {
   "cell_type": "code",
   "execution_count": 370,
   "metadata": {},
   "outputs": [
    {
     "data": {
      "image/png": "[encoded data removed]",
      "text/plain": [
       "<Figure size 800x400 with 1 Axes>"
      ]
     },
     "metadata": {},
     "output_type": "display_data"
    }
   ],
   "source": [
    "plt.figure(figsize = [8,4])\n",
    "\n",
    "plt.plot(x0_newt, iter_newt, label = \"Метод Ньютона для f = 1/x^2-1\")\n",
    "\n",
    "plt.xlabel('Начальное приближение')\n",
    "plt.ylabel('Количество итераций')\n",
    "\n",
    "\n",
    "plt.legend()\n",
    "plt.grid()\n",
    "plt.show()"
   ]
  },
  {
   "cell_type": "markdown",
   "metadata": {},
   "source": [
    "Как можно видеть, количество итераций алгоритма тем меньше, чем ближе начальное приближение к корню.\n"
   ]
  },
  {
   "cell_type": "markdown",
   "metadata": {},
   "source": [
    "\n",
    "__<h3 style=\"text-align:center;\">Решение систем нелинейных алгебраических уравнений</h3>__"
   ]
  },
  {
   "cell_type": "markdown",
   "metadata": {},
   "source": [
    "**1) Метод простой итерации для СНАУ.**"
   ]
  },
  {
   "cell_type": "markdown",
   "metadata": {},
   "source": [
    "<img src=\"images/task_lab_3_2.png\" alt=\"drawing\" width=\"600\"/>\n",
    "\n",
    "выберем вариант б)\n"
   ]
  },
  {
   "cell_type": "code",
   "execution_count": 409,
   "metadata": {},
   "outputs": [],
   "source": [
    "def FPI_(fx, fy, x0, y0, eps=1e-6, max_iter=100):\n",
    "    x = x0\n",
    "    y = y0\n",
    "    iter = 0\n",
    "\n",
    "    while iter < max_iter:\n",
    "        try:\n",
    "            f_x = fx(x, y)\n",
    "            f_y = fy(x)\n",
    "            \n",
    "            # Проверка на допустимость значений\n",
    "            if not (isinstance(f_x, (int, float)) and isinstance(f_y, (int, float))):\n",
    "                raise ValueError(f\"Некорректное значение: f_x={f_x}, f_y={f_y}\")\n",
    "            \n",
    "            # Критерий остановки\n",
    "            if (abs(x - f_x) < eps) and (abs(y - f_y) < eps):\n",
    "                return x, y, iter \n",
    "            \n",
    "            # Обновление значений\n",
    "            x = f_x\n",
    "            y = f_y\n",
    "        \n",
    "        except ValueError as e:\n",
    "            print(f\"Ошибка на итерации {iter + 1}: {e}\")\n",
    "            break\n",
    "        \n",
    "        iter += 1\n",
    "    \n",
    "    print(\"Превышено максимально допустимое количество итераций.\")\n",
    "    return x, y, iter\n"
   ]
  },
  {
   "cell_type": "code",
   "execution_count": 410,
   "metadata": {},
   "outputs": [],
   "source": [
    "def fx(x, y):\n",
    "    try:\n",
    "        value = np.tan(x * y + 0.4)\n",
    "        if value < 0:\n",
    "            raise ValueError(\"Подкоренное выражение отрицательно в sqrt.\")\n",
    "        return np.sqrt(value)\n",
    "    except ValueError as e:\n",
    "        return np.nan  # Возвращаем NaN вместо строки для обработки ошибки\n",
    "\n",
    "def fy(x):\n",
    "    try:\n",
    "        s = (1 - 0.6 * x**2) / 2\n",
    "        if s < 0:\n",
    "            raise ValueError(\"Подкоренное выражение отрицательно в sqrt.\")\n",
    "        return np.sqrt(s)\n",
    "    except ValueError as e:\n",
    "        return np.nan  # Возвращаем NaN вместо строки"
   ]
  },
  {
   "cell_type": "markdown",
   "metadata": {},
   "source": [
    "Задаем начальные приближения недалеко от корня, который можем примерно определить, построив графики функций (см рисунок).\n",
    "Если начальное приближение будет далеко от корня, можем попасть в область, где функция неопределена."
   ]
  },
  {
   "cell_type": "markdown",
   "metadata": {},
   "source": [
    "<img src=\"images/lab2_graph.png\" alt=\"drawing\" width=\"1000\"/>\n"
   ]
  },
  {
   "cell_type": "code",
   "execution_count": 411,
   "metadata": {},
   "outputs": [
    {
     "data": {
      "text/plain": [
       "(np.float64(1.0484001411328012), np.float64(0.4126222767849122), 233)"
      ]
     },
     "execution_count": 411,
     "metadata": {},
     "output_type": "execute_result"
    }
   ],
   "source": [
    "(FPI_(fx, fy, 1, 0.4, eps, 1000))"
   ]
  },
  {
   "cell_type": "code",
   "execution_count": 412,
   "metadata": {},
   "outputs": [
    {
     "data": {
      "text/plain": [
       "(np.float64(1.0484001411328012), np.float64(0.4126222767849122), 233)"
      ]
     },
     "execution_count": 412,
     "metadata": {},
     "output_type": "execute_result"
    }
   ],
   "source": [
    "(FPI_(fx, fy, -1, -0.4, eps, 1000))"
   ]
  },
  {
   "cell_type": "markdown",
   "metadata": {},
   "source": [
    "**2) Метод Ньютона для СНАУ.**"
   ]
  },
  {
   "cell_type": "code",
   "execution_count": 413,
   "metadata": {},
   "outputs": [
    {
     "name": "stdout",
     "output_type": "stream",
     "text": [
      "[[-2.18089341]\n",
      " [-2.12826183]\n",
      " [-2.07563025]\n",
      " [-2.02299867]\n",
      " [-1.97036709]\n",
      " [-1.91773552]\n",
      " [-1.86510394]\n",
      " [-1.81247236]\n",
      " [-1.75984078]\n",
      " [-1.7072092 ]\n",
      " [-1.65457762]\n",
      " [-1.60194604]\n",
      " [-1.54931446]\n",
      " [-1.49668288]\n",
      " [-1.4440513 ]\n",
      " [-1.39141973]\n",
      " [-1.33878815]\n",
      " [-1.28615657]\n",
      " [-1.23352499]\n",
      " [-1.18089341]\n",
      " [-1.12826183]\n",
      " [-1.07563025]\n",
      " [-1.02299867]\n",
      " [-0.97036709]\n",
      " [-0.91773552]\n",
      " [-0.86510394]\n",
      " [-0.81247236]\n",
      " [-0.75984078]\n",
      " [-0.7072092 ]\n",
      " [-0.65457762]\n",
      " [-0.60194604]\n",
      " [-0.54931446]\n",
      " [-0.49668288]\n",
      " [-0.4440513 ]\n",
      " [-0.39141973]\n",
      " [-0.33878815]\n",
      " [-0.28615657]\n",
      " [-0.23352499]\n",
      " [-0.18089341]\n",
      " [-0.12826183]\n",
      " [-0.07563025]\n",
      " [-0.02299867]\n",
      " [ 0.02963291]\n",
      " [ 0.08226448]\n",
      " [ 0.13489606]\n",
      " [ 0.18752764]\n",
      " [ 0.24015922]\n",
      " [ 0.2927908 ]\n",
      " [ 0.34542238]\n",
      " [ 0.39805396]\n",
      " [ 0.45068554]\n",
      " [ 0.50331712]\n",
      " [ 0.5559487 ]\n",
      " [ 0.60858027]\n",
      " [ 0.66121185]\n",
      " [ 0.71384343]\n",
      " [ 0.76647501]\n",
      " [ 0.81910659]\n",
      " [ 0.87173817]\n",
      " [ 0.92436975]\n",
      " [ 0.97700133]\n",
      " [ 1.02963291]\n",
      " [ 1.08226448]\n",
      " [ 1.13489606]\n",
      " [ 1.18752764]\n",
      " [ 1.24015922]\n",
      " [ 1.2927908 ]\n",
      " [ 1.34542238]\n",
      " [ 1.39805396]\n",
      " [ 1.45068554]\n",
      " [ 1.50331712]\n",
      " [ 1.5559487 ]\n",
      " [ 1.60858027]\n",
      " [ 1.66121185]\n",
      " [ 1.71384343]\n",
      " [ 1.76647501]\n",
      " [ 1.81910659]\n",
      " [ 1.87173817]\n",
      " [ 1.92436975]\n",
      " [ 1.97700133]\n",
      " [ 2.02963291]\n",
      " [ 2.08226448]\n",
      " [ 2.13489606]\n",
      " [ 2.18752764]\n",
      " [ 2.24015922]\n",
      " [ 2.2927908 ]\n",
      " [ 2.34542238]\n",
      " [ 2.39805396]\n",
      " [ 2.45068554]\n",
      " [ 2.50331712]\n",
      " [ 2.5559487 ]\n",
      " [ 2.60858027]\n",
      " [ 2.66121185]\n",
      " [ 2.71384343]\n",
      " [ 2.76647501]\n",
      " [ 2.81910659]\n",
      " [ 2.87173817]\n",
      " [ 2.92436975]\n",
      " [ 2.97700133]\n",
      " [ 3.02963291]]\n",
      "[[-2.18089341]\n",
      " [-2.12826183]\n",
      " [-2.07563025]\n",
      " [-2.02299867]\n",
      " [-1.97036709]\n",
      " [-1.91773552]\n",
      " [-1.86510394]\n",
      " [-1.81247236]\n",
      " [-1.75984078]\n",
      " [-1.7072092 ]\n",
      " [-1.65457762]\n",
      " [-1.60194604]\n",
      " [-1.54931446]\n",
      " [-1.49668288]\n",
      " [-1.4440513 ]\n",
      " [-1.39141973]\n",
      " [-1.33878815]\n",
      " [-1.28615657]\n",
      " [-1.23352499]\n",
      " [-1.18089341]\n",
      " [-1.12826183]\n",
      " [-1.07563025]\n",
      " [-1.02299867]\n",
      " [-0.97036709]\n",
      " [-0.91773552]\n",
      " [-0.86510394]\n",
      " [-0.81247236]\n",
      " [-0.75984078]\n",
      " [-0.7072092 ]\n",
      " [-0.65457762]\n",
      " [-0.60194604]\n",
      " [-0.54931446]\n",
      " [-0.49668288]\n",
      " [-0.4440513 ]\n",
      " [-0.39141973]\n",
      " [-0.33878815]\n",
      " [-0.28615657]\n",
      " [-0.23352499]\n",
      " [-0.18089341]\n",
      " [-0.12826183]\n",
      " [-0.07563025]\n",
      " [-0.02299867]\n",
      " [ 0.02963291]\n",
      " [ 0.08226448]\n",
      " [ 0.13489606]\n",
      " [ 0.18752764]\n",
      " [ 0.24015922]\n",
      " [ 0.2927908 ]\n",
      " [ 0.34542238]\n",
      " [ 0.39805396]\n",
      " [ 0.45068554]\n",
      " [ 0.50331712]\n",
      " [ 0.5559487 ]\n",
      " [ 0.60858027]\n",
      " [ 0.66121185]\n",
      " [ 0.71384343]\n",
      " [ 0.76647501]\n",
      " [ 0.81910659]\n",
      " [ 0.87173817]\n",
      " [ 0.92436975]\n",
      " [ 0.97700133]\n",
      " [ 1.02963291]\n",
      " [ 1.08226448]\n",
      " [ 1.13489606]\n",
      " [ 1.18752764]\n",
      " [ 1.24015922]\n",
      " [ 1.2927908 ]\n",
      " [ 1.34542238]\n",
      " [ 1.39805396]\n",
      " [ 1.45068554]\n",
      " [ 1.50331712]\n",
      " [ 1.5559487 ]\n",
      " [ 1.60858027]\n",
      " [ 1.66121185]\n",
      " [ 1.71384343]\n",
      " [ 1.76647501]\n",
      " [ 1.81910659]\n",
      " [ 1.87173817]\n",
      " [ 1.92436975]\n",
      " [ 1.97700133]\n",
      " [ 2.02963291]\n",
      " [ 2.08226448]\n",
      " [ 2.13489606]\n",
      " [ 2.18752764]\n",
      " [ 2.24015922]\n",
      " [ 2.2927908 ]\n",
      " [ 2.34542238]\n",
      " [ 2.39805396]\n",
      " [ 2.45068554]\n",
      " [ 2.50331712]\n",
      " [ 2.5559487 ]\n",
      " [ 2.60858027]\n",
      " [ 2.66121185]\n",
      " [ 2.71384343]\n",
      " [ 2.76647501]\n",
      " [ 2.81910659]\n",
      " [ 2.87173817]\n",
      " [ 2.92436975]\n",
      " [ 2.97700133]\n",
      " [ 3.02963291]]\n"
     ]
    }
   ],
   "source": [
    "a = 20 #константа - зависит от варианта задания a = 20\n",
    "size = 100 #размер матриц = 100\n",
    "\n",
    "A = ((a-1)*np.eye(size) + np.ones(size)) #матрица А\n",
    "\n",
    "B = np.zeros((size, 1)) \n",
    "\n",
    "for i in range(size): B[i] = i + 1 # столбец решений f\n",
    "\n",
    "print(np.linalg.solve(A, B))\n",
    "print(gauss(A, B))\n",
    "\n"
   ]
  },
  {
   "cell_type": "code",
   "execution_count": 414,
   "metadata": {},
   "outputs": [],
   "source": [
    "def newton_(f1, f2, J, x0, y0, eps=1e-6, max_iter=100, lambda_=0.5):\n",
    "    x, y = x0, y0\n",
    "    \n",
    "    for iter_count in range(max_iter):\n",
    "        F = np.array([f1(x, y), f2(x, y)])\n",
    "        delta = gauss(J(x, y), F)\n",
    "\n",
    "        \n",
    "        x_next = x - lambda_ * delta[0][0]  # [0][0] - это первый элемент в столбце\n",
    "        y_next = y - lambda_ * delta[1][0]  # [1][0] - это второй элемент в столбце\n",
    "        \n",
    "        if np.sqrt((x_next - x)**2 + (y_next - y)**2) < eps:\n",
    "            return x_next, y_next, iter_count + 1\n",
    "        \n",
    "        x, y = x_next, y_next\n",
    "    \n",
    "    print(\"Достигнуто максимальное количество итераций.\")\n",
    "    return x, y, iter_count + 1\n"
   ]
  },
  {
   "cell_type": "code",
   "execution_count": 415,
   "metadata": {},
   "outputs": [],
   "source": [
    "# Пример системы уравнений\n",
    "def f1(x, y):\n",
    "    return np.sqrt(np.tan(x * y + 0.4)) - x  # Пример 1-го уравнения\n",
    "\n",
    "def f2(x, y):\n",
    "    return np.sqrt((1 - 0.6 * x**2) / 2) - y  # Пример 2-го уравнения\n",
    "\n",
    "# Якобиан системы\n",
    "def J(x, y):\n",
    "    return np.array([\n",
    "        [(1 / (2 * np.sqrt(np.tan(x * y + 0.4)))) * (1 / (np.cos(x * y + 0.4)**2)) * y - 1, (1 / (2 * np.sqrt(np.tan(x * y + 0.4)))) * (1 / (np.cos(x * y + 0.4)**2)) * x],\n",
    "        [-0.6 * x / np.sqrt((1 - 0.6 * x**2) / 2), -1]\n",
    "    ])\n"
   ]
  },
  {
   "cell_type": "code",
   "execution_count": 416,
   "metadata": {},
   "outputs": [
    {
     "name": "stdout",
     "output_type": "stream",
     "text": [
      "Найденное решение: x = 1.0483983604166265, y = 0.4126213648189298, за 27 итераций\n"
     ]
    }
   ],
   "source": [
    "# Начальное приближение\n",
    "x0, y0 = 1.0, 0.4\n",
    "\n",
    "# Запуск метода Ньютона\n",
    "x, y, iterations = newton_(f1, f2, J, x0, y0)\n",
    "print(f\"Найденное решение: x = {x}, y = {y}, за {iterations} итераций\")"
   ]
  },
  {
   "cell_type": "markdown",
   "metadata": {},
   "source": [
    "Попытки найти все остальные 4 корня с помощью этого метода ничем не закончились - это можно объяснить тем, что метод локально сходится при любых начальных приближениях к одному корню (из первого квадранта). Все адекватные (удовлетворяющие областям определения функций) начальные приближения попадают в область притяжения первого корня. Для нахождения другие корней можно использовать улучшения метода Ньютона или методы высоких порядков."
   ]
  }
 ],
 "metadata": {
  "kernelspec": {
   "display_name": "Python 3",
   "language": "python",
   "name": "python3"
  },
  "language_info": {
   "codemirror_mode": {
    "name": "ipython",
    "version": 3
   },
   "file_extension": ".py",
   "mimetype": "text/x-python",
   "name": "python",
   "nbconvert_exporter": "python",
   "pygments_lexer": "ipython3",
   "version": "3.10.11"
  }
 },
 "nbformat": 4,
 "nbformat_minor": 2
}

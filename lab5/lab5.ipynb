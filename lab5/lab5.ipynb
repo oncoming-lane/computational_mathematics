{
 "cells": [
  {
   "cell_type": "markdown",
   "metadata": {},
   "source": [
    "<h1 style=\"text-align:center;\">Лабораторная работа №5</h1>\n",
    "\n",
    "<h2 style=\"text-align:center;\">Вычисление значения определенного интеграла</h2>\n",
    "\n",
    "<h3 style=\"text-align:center;\">Тулупов Николай Дмитриевич</h3>\n",
    "<h3 style=\"text-align:center;\">Б01-204</h3>\n",
    "\n",
    "\n",
    "Цель: решить выбранную задачу перечисленными методами: \n",
    "1. Метод трапеций + уточнение по правилу Рунге\n",
    "2. Формула Симпсона"
   ]
  },
  {
   "cell_type": "markdown",
   "metadata": {},
   "source": [
    "<img src=\"lab_5_task_1.png\" alt=\"drawing\" width=\"650\"/>\n"
   ]
  },
  {
   "cell_type": "code",
   "execution_count": 120,
   "metadata": {},
   "outputs": [],
   "source": [
    "%matplotlib inline\n",
    "import numpy as np\n",
    "from scipy.interpolate import interp1d\n",
    "import matplotlib.pyplot as plt"
   ]
  },
  {
   "cell_type": "code",
   "execution_count": 121,
   "metadata": {},
   "outputs": [],
   "source": [
    "# вариант в)\n",
    "x = np.array([0.0,       0.15,     0.3,      0.45,     0.6,      0.75,     0.9,      1.05,     1.2     ])\n",
    "f = np.array([1.000000, 1.007568, 1.031121, 1.073456, 1.140228, 1.242129, 1.400176, 1.660300, 2.143460])"
   ]
  },
  {
   "cell_type": "code",
   "execution_count": 122,
   "metadata": {},
   "outputs": [],
   "source": [
    "# Шаг сетки\n",
    "h = (x[-1] - x[0]) / 8 #равномерный!"
   ]
  },
  {
   "cell_type": "markdown",
   "metadata": {},
   "source": [
    "Используем метод Гаусса для решения СЛАУ из лабы 3."
   ]
  },
  {
   "cell_type": "code",
   "execution_count": 123,
   "metadata": {},
   "outputs": [],
   "source": [
    "def norm3_vect(vect):\n",
    "    return pow(sum(el**2 for el in vect), 0.5)\n",
    "\n",
    "def matr_multipl(A, B):\n",
    "    \n",
    "    if A.shape[1] != B.shape[0]: return \n",
    "    AB = np.zeros((A.shape[0], B.shape[1]))\n",
    "    for i in range(A.shape[0]):\n",
    "        for j in range(B.shape[1]):\n",
    "            for k in range(A.shape[1]):\n",
    "                AB[i][j] += A[i][k] * B[k][j]\n",
    "    \n",
    "    return AB\n",
    "\n",
    "def swap_rows(A, row1, row2): #функция для смены строк в матрице\n",
    "    A[[row1, row2]] = A[[row2, row1]]\n",
    "\n",
    "def swap_columns(A, col1, col2): #функция для смены столбцов в матрице\n",
    "    A[:, [col1, col2]] = A[:, [col2, col1]]\n",
    "\n",
    "def find_max_el(A, iter): #функция для поиска главного элемента матрицы A[iter,iter]\n",
    "    size = len(A) - iter\n",
    "    main_element = A[iter,iter]\n",
    "    i_main, j_main = iter, iter\n",
    "\n",
    "    for i in range(iter, size): \n",
    "        for j in range(iter, size):\n",
    "            if abs(A[iter:, iter:][i][j]) > abs(main_element):\n",
    "                i_main, j_main = i, j\n",
    "                main_element = A[iter:, iter:][i][j]\n",
    "    return main_element, i_main, j_main\n",
    "\n",
    "def gauss(A, f):\n",
    "    size = len(A)\n",
    "    if A.shape[0] != A.shape[1]:\n",
    "        print(\"Матрица не квадратная, решение невозможно!\")\n",
    "        return \n",
    "    x = np.arange(size) #массив с порядком корней (порядок будет меняться при перестановке столбцов)\n",
    "\n",
    "    #прямой ход алгоритма - приводим матрицу A к верхнетреугольному виду\n",
    "    for iter in range(len(A)):\n",
    "        ''' Добавим в алгоритм проверку - если на какой-то итерации алгоритма возникла нулевая строка - ответ будет выражаться \n",
    "        через одну из переменных (её берем за константу, все остальные переменные будут выражены через нее)'''\n",
    "        if (len(A) != sum(int(np.any(el)) for el in A)):\n",
    "            '''Количество переменных превышает количество уравнений, решение не однозначн'''\n",
    "            print(\"ERROR! Матрица не квадратная, решение невозможно!\")\n",
    "            return \n",
    "        \n",
    "        main_el, i_main, j_main = find_max_el(A, iter) #максимальный элемент текущей матрицы и его местонахождение\n",
    "        \n",
    "        if (i_main != iter): #если элемент еще не в нулевой строке\n",
    "            swap_rows(A, iter, i_main) #меняем в текущей матрице нулевую строку и строку, содержащую главный элемент            \n",
    "            swap_rows(f, iter, i_main) #то же самое - в столбце решений       \n",
    "            \n",
    "        if (j_main != iter): #если элемент еще не в нулевом столбце\n",
    "            swap_columns(A, iter, j_main) #меняем в текущей матрице нулевой столбец и столбец, содержащий главный элемент\n",
    "            #swap_columns(x, iter, j_main) #то же самое - в строке порядка переменных\n",
    "            x[iter], x[j_main] = x[j_main], x[iter]\n",
    "        \n",
    "        if main_el != 0:\n",
    "            A[iter:, iter:][0] /= main_el #делим нулевую строку текущей матрицы на главный элемент\n",
    "            f[iter] /= main_el #делим нулевую строку текущего столбца решений на главный элемент\n",
    "        else:\n",
    "            print(\"ERROR! main_el = 0\")\n",
    "            return\n",
    "    \n",
    "        for i in range(size - iter - 1):   \n",
    "            f[i+iter+1] -= (f[iter] * A[iter:, iter:][i+1][0])\n",
    "            #вычитаем из каждого элемента нулевой в текущем столбце решений, умноженный на нулевой элемент нужной строки - получаем в начале каждой строки единицу\n",
    "            A[iter:, iter:][i+1] -=  (A[iter:, iter:][0] * A[iter:, iter:][i+1][0])\n",
    "            #вычитаем из каждой строки нулевую, умноженную на нулевой элемент нужной строки - получаем в начале каждой строки единицу\n",
    "        \n",
    "    f[-1] /= A[-1][-1]\n",
    "    A[size-1][size-1] = 1\n",
    "\n",
    "\n",
    "    \n",
    "    #обратный ход алгоритма\n",
    "    U  = np.zeros((size, 1)) #столбец решений\n",
    "    for i in range(size-1, -1, -1):\n",
    "        U[i] = f[i]\n",
    "        for j in range(i + 1, size):\n",
    "            U[i] -= U[j] * A[i][j]\n",
    "\n",
    "    #перестановка переменных в изначальном порядке\n",
    "    ans = np.zeros((size, 1))\n",
    "    for i in range(size):\n",
    "        ans[int(x[i])] = U[i]\n",
    "    \n",
    "    return ans"
   ]
  },
  {
   "cell_type": "markdown",
   "metadata": {},
   "source": [
    "Используем сплайн-интерполяцию из лабы 4."
   ]
  },
  {
   "cell_type": "code",
   "execution_count": 124,
   "metadata": {},
   "outputs": [],
   "source": [
    "def cubic_spline(x, y):\n",
    "    \n",
    "    n = len(x) - 1  # количество интервалов\n",
    "    h = np.diff(x)  # длины интервалов\n",
    "\n",
    "    # Вычисляем вектор правой части системы уравнений (f)\n",
    "    f = np.zeros(n + 1)\n",
    "    for i in range(1, n):\n",
    "        f[i] = (3 / h[i] * (y[i + 1] - y[i]) - 3 / h[i - 1] * (y[i] - y[i - 1]))\n",
    "\n",
    "    # Формируем матрицу A для решения системы уравнений\n",
    "    A = np.zeros((n + 1, n + 1))\n",
    "    b = np.zeros(n + 1)\n",
    "\n",
    "    for i in range(1, n):\n",
    "        A[i, i - 1] = h[i - 1]  # нижняя диагональ\n",
    "        A[i, i] = 2 * (h[i - 1] + h[i])  # главная диагональ\n",
    "        A[i, i + 1] = h[i]  # верхняя диагональ\n",
    "        b[i] = f[i]\n",
    "\n",
    "    # Граничные условия\n",
    "    A[0, 0] = 1\n",
    "    A[n, n] = 1\n",
    "  \n",
    "    # Решаем систему линейных уравнений для коэффициентов c\n",
    "    c = gauss(A, b)\n",
    "\n",
    "    # Вычисляем коэффициенты a, b, d\n",
    "    a = y[:-1]\n",
    "    b = np.zeros(n)\n",
    "    d = np.zeros(n)\n",
    "\n",
    "    for i in range(n):\n",
    "        b[i] = (y[i + 1] - y[i]) / h[i] - h[i] * (2 * c[i][0] + c[i + 1][0]) / 3\n",
    "        d[i] = (c[i + 1][0] - c[i][0]) / (3 * h[i])\n",
    "\n",
    "    return a, b, c[:-1], d\n",
    "\n",
    "def value_spline(x, a, b, c, d, xi):\n",
    "    n = len(a)\n",
    "    for i in range(n):\n",
    "        if x[i] <= xi <= x[i + 1]:\n",
    "            dx = xi - x[i]\n",
    "            return a[i] + b[i] * dx + c[i] * dx**2 + d[i] * dx**3\n",
    "    raise ValueError(\"xi вне диапазона x\")\n"
   ]
  },
  {
   "cell_type": "markdown",
   "metadata": {},
   "source": [
    "#### **1) Классический метод трапеций с уточнением по правилу Рунге.**"
   ]
  },
  {
   "cell_type": "code",
   "execution_count": 125,
   "metadata": {},
   "outputs": [],
   "source": [
    "# Метод трапеций\n",
    "def trapezoid(x, f):\n",
    "    n = len(x) - 1\n",
    "    integral = 0.5 * h * (f[0] + 2 * np.sum(f[1:n]) + f[n])\n",
    "    return integral"
   ]
  },
  {
   "cell_type": "code",
   "execution_count": 126,
   "metadata": {},
   "outputs": [],
   "source": [
    "# правило Рунге\n",
    "def runge(I_h, I_2h, p = 2):\n",
    "    return I_h + (I_h - I_2h) / (2**p - 1)"
   ]
  },
  {
   "cell_type": "code",
   "execution_count": 127,
   "metadata": {},
   "outputs": [],
   "source": [
    "# метод трапеций с уточнением по правилу Рунге\n",
    "def trapezoid_runge(x, y):\n",
    "    I_h = trapezoid(x, y)\n",
    "    I_2h = 0\n",
    "\n",
    "    a, b, c, d = cubic_spline(x, y)\n",
    "\n",
    "    for i in range(len(x) - 1):\n",
    "        x_val = (x[i] + x[i+1]) / 2\n",
    "        y_val = value_spline(x, a, b, c, d, x_val)\n",
    "\n",
    "        I_2h += 0.5 * (y_val + y[i]) * (x_val - x[i])\n",
    "        I_2h += 0.5 * (y_val + y[i+1]) * (x[i+1] - x_val)\n",
    "    \n",
    "    return (runge(I_h, I_2h, p = 2))"
   ]
  },
  {
   "cell_type": "code",
   "execution_count": 128,
   "metadata": {},
   "outputs": [
    {
     "name": "stdout",
     "output_type": "stream",
     "text": [
      "1.5190062 1.5201664500326684\n"
     ]
    }
   ],
   "source": [
    "I_trap = float(trapezoid(x, f))\n",
    "I_trap_runge = float(trapezoid_runge(x, f).item())\n",
    "print(I_trap, I_trap_runge)\n"
   ]
  },
  {
   "cell_type": "markdown",
   "metadata": {},
   "source": [
    "#### **2) Метод Симпсона.**\n",
    "\n",
    "Для приближённого вычисления определённого интеграла на равномерной сетке используется **метод Симпсона**:\n",
    "\n",
    "$$\n",
    "\\int_a^b f(x) \\, dx \\approx \\frac{h}{3} \\left[ f(x_0) + 4f(x_1) + 2f(x_2) + 4f(x_3) + \\dots + 2f(x_{n-2}) + 4f(x_{n-1}) + f(x_n) \\right],\n",
    "$$\n",
    "\n",
    "где:\n",
    "\n",
    "- $ x_0, x_1, \\dots, x_n $ — узлы равномерного разбиения на отрезке $ [a, b] $\n",
    "- $ h = \\frac{b - a}{n} $ — шаг разбиения,\n",
    "- $ n $ — чётное количество подотрезков,\n",
    "- $ f(x_0), f(x_1), \\dots, f(x_n)$ — значения функции в узлах.\n",
    "\n",
    "**Коэффициенты 4 и 2** чередуются:\n",
    "- $ 4 \\cdot f(x_i) $ для нечётных узлов $ x_1, x_3, \\dots $,\n",
    "- $ 2 \\cdot f(x_i) $ для чётных узлов $ x_2, x_4, \\dots $,\n",
    "- $ f(x_0) $ и $ f(x_n) $ учитываются с коэффициентом 1 (границы отрезка).\n",
    "\n",
    "Формула применяется для чётного $ n $, так как каждый два подотрезка аппроксимируются одной параболой.\n"
   ]
  },
  {
   "cell_type": "code",
   "execution_count": 129,
   "metadata": {},
   "outputs": [],
   "source": [
    "#метод Симпсона\n",
    "def simpson(x, y):\n",
    "    \n",
    "    num_intervals = len(x) - 1  # Количество подотрезков (должно быть чётным для метода Симпсона)\n",
    "    \n",
    "    if num_intervals % 2 != 0:\n",
    "        raise ValueError(\"Метод Симпсона требует чётное количество подотрезков.\")\n",
    "\n",
    "    step_size = (x[-1] - x[0]) / num_intervals  # Шаг разбиения\n",
    "    integral_sum = y[0] + y[-1]  # Начинаем с первого и последнего значений функции\n",
    "\n",
    "    # Суммируем 4 * f(x_i) для нечётных индексов (средние точки на каждом подотрезке)\n",
    "    for i in range(1, num_intervals, 2):\n",
    "        integral_sum += 4 * y[i]\n",
    "    \n",
    "    # Суммируем 2 * f(x_i) для чётных индексов (внутренние точки на границах подотрезков)\n",
    "    for i in range(2, num_intervals, 2):\n",
    "        integral_sum += 2 * y[i]\n",
    "    \n",
    "    # Умножаем сумму на шаг / 3 для получения окончательного значения интеграла\n",
    "    integral = (step_size / 3) * integral_sum\n",
    "    \n",
    "    return integral"
   ]
  },
  {
   "cell_type": "code",
   "execution_count": 130,
   "metadata": {},
   "outputs": [
    {
     "name": "stdout",
     "output_type": "stream",
     "text": [
      "1.5110161\n"
     ]
    }
   ],
   "source": [
    "I_simpson = float(simpson(x, f))\n",
    "print(I_simpson)"
   ]
  },
  {
   "cell_type": "code",
   "execution_count": null,
   "metadata": {},
   "outputs": [],
   "source": []
  },
  {
   "cell_type": "code",
   "execution_count": null,
   "metadata": {},
   "outputs": [],
   "source": []
  },
  {
   "cell_type": "code",
   "execution_count": null,
   "metadata": {},
   "outputs": [],
   "source": []
  },
  {
   "cell_type": "markdown",
   "metadata": {},
   "source": [
    "<img src=\"lab_5_task_2.png\" alt=\"drawing\" width=\"650\"/>"
   ]
  },
  {
   "cell_type": "code",
   "execution_count": null,
   "metadata": {},
   "outputs": [],
   "source": []
  },
  {
   "cell_type": "code",
   "execution_count": null,
   "metadata": {},
   "outputs": [],
   "source": []
  },
  {
   "cell_type": "code",
   "execution_count": null,
   "metadata": {},
   "outputs": [],
   "source": []
  }
 ],
 "metadata": {
  "kernelspec": {
   "display_name": "Python 3",
   "language": "python",
   "name": "python3"
  },
  "language_info": {
   "codemirror_mode": {
    "name": "ipython",
    "version": 3
   },
   "file_extension": ".py",
   "mimetype": "text/x-python",
   "name": "python",
   "nbconvert_exporter": "python",
   "pygments_lexer": "ipython3",
   "version": "3.10.11"
  }
 },
 "nbformat": 4,
 "nbformat_minor": 2
}

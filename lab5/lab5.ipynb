{
 "cells": [
  {
   "cell_type": "markdown",
   "metadata": {},
   "source": [
    "<h1 style=\"text-align:center;\">Лабораторная работа №5</h1>\n",
    "\n",
    "<h2 style=\"text-align:center;\">Вычисление значения определенного интеграла</h2>\n",
    "\n",
    "<h3 style=\"text-align:center;\">Тулупов Николай Дмитриевич</h3>\n",
    "<h3 style=\"text-align:center;\">Б01-204</h3>\n",
    "\n",
    "\n",
    "Цель: решить выбранную задачу перечисленными методами: \n",
    "1. Метод трапеций + уточнение по правилу Рунге\n",
    "2. Формула Симпсона"
   ]
  },
  {
   "cell_type": "markdown",
   "metadata": {},
   "source": [
    "<img src=\"lab_5_task_1.png\" alt=\"drawing\" width=\"650\"/>\n"
   ]
  },
  {
   "cell_type": "markdown",
   "metadata": {},
   "source": [
    "<img src=\"lab_5_task_2.png\" alt=\"drawing\" width=\"650\"/>"
   ]
  },
  {
   "cell_type": "code",
   "execution_count": 1127,
   "metadata": {},
   "outputs": [],
   "source": [
    "%matplotlib inline\n",
    "import numpy as np\n",
    "from scipy.interpolate import interp1d\n",
    "\n",
    "import matplotlib.pyplot as plt"
   ]
  }
 ],
 "metadata": {
  "kernelspec": {
   "display_name": "Python 3",
   "language": "python",
   "name": "python3"
  },
  "language_info": {
   "codemirror_mode": {
    "name": "ipython",
    "version": 3
   },
   "file_extension": ".py",
   "mimetype": "text/x-python",
   "name": "python",
   "nbconvert_exporter": "python",
   "pygments_lexer": "ipython3",
   "version": "3.10.11"
  }
 },
 "nbformat": 4,
 "nbformat_minor": 2
}
